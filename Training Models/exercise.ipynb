{
 "cells": [
  {
   "cell_type": "markdown",
   "metadata": {},
   "source": [
    "# Implementing Softmax regression without using scikit-learn"
   ]
  },
  {
   "cell_type": "code",
   "execution_count": 9,
   "metadata": {},
   "outputs": [],
   "source": [
    "import numpy as np\n",
    "from sklearn.datasets import load_iris\n",
    "from sklearn.preprocessing import label_binarize\n",
    "iris = load_iris()\n",
    "X = iris['data']\n",
    "y = label_binarize(iris['target'], classes = [0, 1, 2])"
   ]
  },
  {
   "cell_type": "code",
   "execution_count": 127,
   "metadata": {},
   "outputs": [],
   "source": [
    "class SoftmaxRegression:\n",
    "    def __init__(self):\n",
    "        #weight matrix, shape = (input, output)\n",
    "        self.W = None\n",
    "\n",
    "    def softmax(self, scores):\n",
    "        return np.exp(scores) / np.expand_dims(np.sum(np.exp(scores), axis = 1), axis = -1)\n",
    "\n",
    "    def fit(self, X, y, warm_start = False, epochs = 1000, eta = 0.01):\n",
    "        if len(X.shape) < 2 or len(y.shape) < 2:\n",
    "            print('Check the shapes of the input data!')\n",
    "            raise ValueError\n",
    "        elif X.shape[0] != y.shape[0]:\n",
    "            print('You have entered the wrong number of samples for the data and targets!')\n",
    "            raise ValueError\n",
    "        X = np.c_[X, np.ones(shape = (X.shape[0], 1))] #add the bias to the input\n",
    "        \n",
    "        if not warm_start:\n",
    "            self.W = np.random.randn(X.shape[1], y.shape[1])\n",
    "        elif warm_start and self.W == None:\n",
    "            print('Cannot use warm start!', '\\n Pass some data so that the model can initialize the weights!')\n",
    "        \n",
    "        m = X.shape[0]\n",
    "        for epoch in range(epochs):\n",
    "            scores = X.dot(self.W)\n",
    "            probability = self.softmax(scores)\n",
    "\n",
    "            cost = 0\n",
    "            for i in range(m):\n",
    "                cost += np.sum(y[i] * np.log(probability[i]))\n",
    "            cost = -1/m * cost\n",
    "\n",
    "            gradient = np.zeros(shape = self.W.shape)\n",
    "            for i in range(m):\n",
    "                gradient += np.expand_dims(X[i], axis = -1) @ np.expand_dims(probability[i] - y[i], axis = -1).T\n",
    "            gradient = 1/m * gradient\n",
    "            self.W = self.W - eta * gradient\n",
    "            \n",
    "            \n",
    "            \n",
    "\n",
    "            \n",
    "    def predict(self, X):\n",
    "        if len(X.shape) < 2:\n",
    "            X = np.expand_dims(X, axis = -1).T\n",
    "        X = np.c_[X, np.ones(shape = (X.shape[0], 1))]\n",
    "        scores = X.dot(self.W)\n",
    "        probability = self.softmax(scores)\n",
    "        return probability\n",
    "\n"
   ]
  },
  {
   "cell_type": "code",
   "execution_count": 128,
   "metadata": {},
   "outputs": [],
   "source": [
    "from sklearn.model_selection import train_test_split\n",
    "softmax_reg = SoftmaxRegression()\n",
    "X_train, X_test, y_train, y_test = train_test_split(X, y, test_size = 0.2)\n",
    "softmax_reg.fit(X_train, y_train)"
   ]
  },
  {
   "cell_type": "code",
   "execution_count": 129,
   "metadata": {},
   "outputs": [],
   "source": [
    "y_pred = softmax_reg.predict(X_test)"
   ]
  },
  {
   "cell_type": "code",
   "execution_count": 133,
   "metadata": {},
   "outputs": [
    {
     "data": {
      "text/plain": [
       "0.9"
      ]
     },
     "execution_count": 133,
     "metadata": {},
     "output_type": "execute_result"
    }
   ],
   "source": [
    "from sklearn.metrics import accuracy_score\n",
    "y_pred_sparse = np.argmax(y_pred, axis = 1)\n",
    "y_test_sparse = np.argmax(y_test, axis = 1)\n",
    "accuracy_score(y_test_sparse, y_pred_sparse)"
   ]
  },
  {
   "cell_type": "code",
   "execution_count": null,
   "metadata": {},
   "outputs": [],
   "source": []
  }
 ],
 "metadata": {
  "kernelspec": {
   "display_name": "tf",
   "language": "python",
   "name": "python3"
  },
  "language_info": {
   "codemirror_mode": {
    "name": "ipython",
    "version": 3
   },
   "file_extension": ".py",
   "mimetype": "text/x-python",
   "name": "python",
   "nbconvert_exporter": "python",
   "pygments_lexer": "ipython3",
   "version": "3.12.4"
  }
 },
 "nbformat": 4,
 "nbformat_minor": 2
}
